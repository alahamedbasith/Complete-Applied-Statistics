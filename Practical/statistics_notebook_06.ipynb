{
 "cells": [
  {
   "cell_type": "markdown",
   "id": "c40af0fd",
   "metadata": {},
   "source": [
    "# Lecture - 06"
   ]
  },
  {
   "cell_type": "markdown",
   "id": "e53c2523",
   "metadata": {},
   "source": [
    "- Anova Test\n",
    "- Co varience\n",
    "- Pearson Correlation Coefficient\n",
    "- Spearman Rank Correlation Coefficient"
   ]
  },
  {
   "cell_type": "markdown",
   "id": "a55a19a2",
   "metadata": {},
   "source": [
    "## ANOVA (Analysis of Variance) - F Test\n",
    "ANOVA is a statistical technique used to determine whether there are significant differences between the means of three or more groups. It helps in testing hypotheses about population means. There are different types of ANOVA tests based on the experimental design and the number of factors involved.\n",
    "\n",
    "### One-Way ANOVA\n",
    "\n",
    "**One-Way ANOVA** is used when you have one independent variable (factor) with multiple levels (groups) and you want to test if there are significant differences in the means of these groups.\n",
    "\n",
    "### Real-Time Scenario for One-Way ANOVA\n",
    "\n",
    "**Scenario:**\n",
    "A company wants to evaluate the effectiveness of three different training programs on employee performance. The performance of employees is measured after each training program.\n",
    "\n",
    "**Groups:**\n",
    "- **Training Program A**\n",
    "- **Training Program B**\n",
    "- **Training Program C**\n",
    "\n",
    "**Objective:**\n",
    "Determine if there is a significant difference in performance scores among the three training programs."
   ]
  },
  {
   "cell_type": "code",
   "execution_count": 1,
   "id": "ff6d8f97",
   "metadata": {},
   "outputs": [
    {
     "name": "stdout",
     "output_type": "stream",
     "text": [
      "F-Statistic: 53.73333333333322\n",
      "P-Value: 1.0270864474090559e-06\n",
      "There is a significant difference in performance scores among the training programs.\n"
     ]
    }
   ],
   "source": [
    "import numpy as np\n",
    "import scipy.stats as stats\n",
    "\n",
    "# Data: Performance scores for each training program\n",
    "scores_A = np.array([85, 88, 90, 92, 87])\n",
    "scores_B = np.array([78, 80, 82, 81, 79])\n",
    "scores_C = np.array([91, 93, 95, 94, 96])\n",
    "\n",
    "# Perform One-Way ANOVA\n",
    "f_statistic, p_value = stats.f_oneway(scores_A, scores_B, scores_C)\n",
    "\n",
    "print(\"F-Statistic:\", f_statistic)\n",
    "print(\"P-Value:\", p_value)\n",
    "\n",
    "# Interpretation\n",
    "if p_value < 0.05:\n",
    "    print(\"There is a significant difference in performance scores among the training programs.\")\n",
    "else:\n",
    "    print(\"There is no significant difference in performance scores among the training programs.\")"
   ]
  },
  {
   "cell_type": "markdown",
   "id": "54bfc164",
   "metadata": {},
   "source": [
    "### Two-Way ANOVA\n",
    "\n",
    "**Two-Way ANOVA** is used when you have two independent variables (factors) and you want to understand how each factor and their interaction affect the dependent variable.\n",
    "\n",
    "#### Real-Time Scenario for Two-Way ANOVA\n",
    "\n",
    "**Scenario:**\n",
    "A researcher wants to study the impact of two factors on the yield of a crop. The two factors are:\n",
    "- **Fertilizer Type:** Organic vs. Chemical\n",
    "- **Watering Frequency:** Daily vs. Weekly\n",
    "\n",
    "**Objective:**\n",
    "Determine if there is a significant effect of fertilizer type, watering frequency, and their interaction on the crop yield.\n"
   ]
  },
  {
   "cell_type": "code",
   "execution_count": 2,
   "id": "bfab539b",
   "metadata": {},
   "outputs": [
    {
     "name": "stdout",
     "output_type": "stream",
     "text": [
      "                             sum_sq   df         F    PR(>F)\n",
      "C(Fertilizer)              0.066667  1.0  0.052174  0.826909\n",
      "C(Watering)                3.266667  1.0  2.556522  0.160956\n",
      "C(Fertilizer):C(Watering)  4.266667  1.0  3.339130  0.117422\n",
      "Residual                   7.666667  6.0       NaN       NaN\n",
      "There is no significant effect of fertilizer type on crop yield.\n",
      "There is no significant effect of watering frequency on crop yield.\n",
      "There is no significant interaction effect between fertilizer type and watering frequency on crop yield.\n"
     ]
    }
   ],
   "source": [
    "import pandas as pd\n",
    "import statsmodels.api as sm\n",
    "from statsmodels.formula.api import ols\n",
    "\n",
    "# Data: Crop yield for each combination of fertilizer type and watering frequency\n",
    "data = pd.DataFrame({\n",
    "    'Yield': [20, 22, 21, 23, 19, 21, 20, 22, 21, 23],\n",
    "    'Fertilizer': ['Organic', 'Organic', 'Organic', 'Organic', 'Organic', \n",
    "                   'Chemical', 'Chemical', 'Chemical', 'Chemical', 'Chemical'],\n",
    "    'Watering': ['Daily', 'Weekly', 'Daily', 'Weekly', 'Daily', \n",
    "                 'Daily', 'Weekly', 'Daily', 'Weekly', 'Weekly']\n",
    "})\n",
    "\n",
    "# Fit the model\n",
    "model = ols('Yield ~ C(Fertilizer) * C(Watering)', data=data).fit()\n",
    "anova_table = sm.stats.anova_lm(model, typ=2)\n",
    "\n",
    "print(anova_table)\n",
    "\n",
    "# Interpretation\n",
    "if anova_table['PR(>F)']['C(Fertilizer)'] < 0.05:\n",
    "    print(\"There is a significant effect of fertilizer type on crop yield.\")\n",
    "else:\n",
    "    print(\"There is no significant effect of fertilizer type on crop yield.\")\n",
    "\n",
    "if anova_table['PR(>F)']['C(Watering)'] < 0.05:\n",
    "    print(\"There is a significant effect of watering frequency on crop yield.\")\n",
    "else:\n",
    "    print(\"There is no significant effect of watering frequency on crop yield.\")\n",
    "\n",
    "if anova_table['PR(>F)']['C(Fertilizer):C(Watering)'] < 0.05:\n",
    "    print(\"There is a significant interaction effect between fertilizer type and watering frequency on crop yield.\")\n",
    "else:\n",
    "    print(\"There is no significant interaction effect between fertilizer type and watering frequency on crop yield.\")"
   ]
  },
  {
   "cell_type": "markdown",
   "id": "57dbf448",
   "metadata": {},
   "source": [
    "### Explanation:\n",
    "\n",
    "1. **One-Way ANOVA:**\n",
    "   - **Define Data:** Performance scores from each training program.\n",
    "   - **Perform ANOVA:** Use `stats.f_oneway()` to test for differences between the means of the three groups.\n",
    "   - **Interpret Results:** Check the P-value to determine if there are significant differences between the groups.\n",
    "\n",
    "2. **Two-Way ANOVA:**\n",
    "   - **Define Data:** Create a DataFrame with crop yield data, fertilizer types, and watering frequencies.\n",
    "   - **Fit Model:** Use `statsmodels` to fit the ANOVA model with interaction.\n",
    "   - **Perform ANOVA:** Generate an ANOVA table to see the effects of each factor and their interaction.\n",
    "   - **Interpret Results:** Check the P-values for the main effects and interaction to determine if they are significant.\n",
    "\n",
    "### Summary\n",
    "\n",
    "- **One-Way ANOVA:** Tests differences between the means of three or more independent groups based on one factor.\n",
    "- **Two-Way ANOVA:** Tests the effects of two independent factors on a dependent variable and their interaction, applicable when you have two categorical factors.\n",
    "\n",
    "Both ANOVA tests are powerful tools for analyzing experimental data and understanding the effects of different factors on outcomes."
   ]
  },
  {
   "cell_type": "markdown",
   "id": "9eada9f6",
   "metadata": {},
   "source": [
    "## Covariance\n",
    "Covariance measures how two variables change together. A positive covariance indicates that the variables increase together, while a negative covariance indicates that one variable tends to increase when the other decreases."
   ]
  },
  {
   "cell_type": "code",
   "execution_count": 3,
   "id": "ee8eeb78",
   "metadata": {},
   "outputs": [
    {
     "name": "stdout",
     "output_type": "stream",
     "text": [
      "Covariance: -2.0\n"
     ]
    }
   ],
   "source": [
    "import numpy as np\n",
    "\n",
    "# Example data\n",
    "x = np.array([1, 2, 3, 4, 5])\n",
    "y = np.array([5, 4, 3, 2, 1])\n",
    "\n",
    "# Calculate covariance matrix\n",
    "cov_matrix = np.cov(x, y, ddof=0)\n",
    "cov_xy = cov_matrix[0, 1]\n",
    "\n",
    "print(\"Covariance:\", cov_xy)"
   ]
  },
  {
   "cell_type": "markdown",
   "id": "82e928ea",
   "metadata": {},
   "source": [
    "## Pearson Correlation Coefficient\n",
    "The Pearson correlation coefficient measures the linear relationship between two variables. It ranges from -1 to 1, where 1 means a perfect positive linear relationship, -1 means a perfect negative linear relationship, and 0 means no linear relationship."
   ]
  },
  {
   "cell_type": "code",
   "execution_count": 4,
   "id": "f7804a49",
   "metadata": {},
   "outputs": [
    {
     "name": "stdout",
     "output_type": "stream",
     "text": [
      "Pearson Correlation Coefficient: -0.9999999999999999\n"
     ]
    }
   ],
   "source": [
    "import numpy as np\n",
    "\n",
    "# Example data\n",
    "x = np.array([1, 2, 3, 4, 5])\n",
    "y = np.array([5, 4, 3, 2, 1])\n",
    "\n",
    "# Calculate Pearson correlation coefficient\n",
    "pearson_corr = np.corrcoef(x, y)[0, 1]\n",
    "\n",
    "print(\"Pearson Correlation Coefficient:\", pearson_corr)"
   ]
  },
  {
   "cell_type": "markdown",
   "id": "e97741a5",
   "metadata": {},
   "source": [
    "## Spearman Rank Correlation Coefficient\n",
    "The Spearman rank correlation coefficient measures the strength and direction of the association between two ranked variables. It is a non-parametric measure, meaning it does not assume a linear relationship or normally distributed data."
   ]
  },
  {
   "cell_type": "code",
   "execution_count": 5,
   "id": "fe00f196",
   "metadata": {},
   "outputs": [
    {
     "name": "stdout",
     "output_type": "stream",
     "text": [
      "Spearman Rank Correlation Coefficient: -0.9999999999999999\n"
     ]
    }
   ],
   "source": [
    "from scipy.stats import spearmanr\n",
    "\n",
    "# Example data\n",
    "x = np.array([1, 2, 3, 4, 5])\n",
    "y = np.array([5, 4, 3, 2, 1])\n",
    "\n",
    "# Calculate Spearman rank correlation coefficient\n",
    "spearman_corr, _ = spearmanr(x, y)\n",
    "\n",
    "print(\"Spearman Rank Correlation Coefficient:\", spearman_corr)"
   ]
  },
  {
   "cell_type": "markdown",
   "id": "0a6cd87f",
   "metadata": {},
   "source": [
    "#### Prepared By,\n",
    "Ahamed Basith"
   ]
  },
  {
   "cell_type": "code",
   "execution_count": null,
   "id": "538466d1",
   "metadata": {},
   "outputs": [],
   "source": []
  }
 ],
 "metadata": {
  "kernelspec": {
   "display_name": "Python 3 (ipykernel)",
   "language": "python",
   "name": "python3"
  },
  "language_info": {
   "codemirror_mode": {
    "name": "ipython",
    "version": 3
   },
   "file_extension": ".py",
   "mimetype": "text/x-python",
   "name": "python",
   "nbconvert_exporter": "python",
   "pygments_lexer": "ipython3",
   "version": "3.11.5"
  }
 },
 "nbformat": 4,
 "nbformat_minor": 5
}
