{
 "cells": [
  {
   "cell_type": "markdown",
   "id": "a10eea51",
   "metadata": {},
   "source": [
    "# Lecture - 02"
   ]
  },
  {
   "cell_type": "markdown",
   "id": "6e57355f",
   "metadata": {},
   "source": [
    "## Measures of central tendency\n",
    "To calculate measures of central tendency (mean, median, and mode) in Python, you can use the statistics module, which is part of the Python Standard Library. "
   ]
  },
  {
   "cell_type": "code",
   "execution_count": 1,
   "id": "5efb6d2a",
   "metadata": {},
   "outputs": [
    {
     "name": "stdout",
     "output_type": "stream",
     "text": [
      "Mean: 4.583333333333333\n",
      "Median: 4.0\n",
      "Mode: 4\n"
     ]
    }
   ],
   "source": [
    "import statistics\n",
    "\n",
    "# Sample data\n",
    "data = [1, 2, 2, 3, 4, 4, 4, 5, 6, 7, 8, 9]\n",
    "\n",
    "# Calculate mean\n",
    "mean = statistics.mean(data)\n",
    "print(f'Mean: {mean}')\n",
    "\n",
    "# Calculate median\n",
    "median = statistics.median(data)\n",
    "print(f'Median: {median}')\n",
    "\n",
    "# Calculate mode\n",
    "mode = statistics.mode(data)\n",
    "print(f'Mode: {mode}')"
   ]
  },
  {
   "cell_type": "markdown",
   "id": "de29d77d",
   "metadata": {},
   "source": [
    "If you need more advanced statistical analysis, you can use the numpy library:"
   ]
  },
  {
   "cell_type": "code",
   "execution_count": 2,
   "id": "4f884e28",
   "metadata": {},
   "outputs": [
    {
     "name": "stdout",
     "output_type": "stream",
     "text": [
      "Mean: 4.583333333333333\n",
      "Median: 4.0\n",
      "Mode: ModeResult(mode=4, count=3)\n"
     ]
    }
   ],
   "source": [
    "import numpy as np\n",
    "from scipy import stats\n",
    "\n",
    "# Sample data\n",
    "data = np.array([1, 2, 2, 3, 4, 4, 4, 5, 6, 7, 8, 9])\n",
    "\n",
    "# Calculate mean\n",
    "mean = np.mean(data)\n",
    "print(f'Mean: {mean}')\n",
    "\n",
    "# Calculate median\n",
    "median = np.median(data)\n",
    "print(f'Median: {median}')\n",
    "\n",
    "# Calculate mode\n",
    "mode = stats.mode(data)\n",
    "print(f'Mode: {mode}')\n"
   ]
  },
  {
   "cell_type": "markdown",
   "id": "6a3d15a3",
   "metadata": {},
   "source": [
    "## Measures of dispersion\n"
   ]
  },
  {
   "cell_type": "code",
   "execution_count": 3,
   "id": "1743cdbf",
   "metadata": {},
   "outputs": [
    {
     "name": "stdout",
     "output_type": "stream",
     "text": [
      "Range: 8\n",
      "Variance: 6.265151515151516\n",
      "Standard Deviation: 2.5030284687057627\n"
     ]
    }
   ],
   "source": [
    "import statistics\n",
    "\n",
    "# Sample data\n",
    "data = [1, 2, 2, 3, 4, 4, 4, 5, 6, 7, 8, 9]\n",
    "\n",
    "# Calculate range\n",
    "range_value = max(data) - min(data)\n",
    "print(f'Range: {range_value}')\n",
    "\n",
    "# Calculate variance\n",
    "variance = statistics.variance(data)\n",
    "print(f'Variance: {variance}')\n",
    "\n",
    "# Calculate standard deviation\n",
    "std_dev = statistics.stdev(data)\n",
    "print(f'Standard Deviation: {std_dev}')"
   ]
  },
  {
   "cell_type": "markdown",
   "id": "28dd1823",
   "metadata": {},
   "source": [
    "Using numpy"
   ]
  },
  {
   "cell_type": "code",
   "execution_count": 4,
   "id": "07cc8795",
   "metadata": {},
   "outputs": [
    {
     "name": "stdout",
     "output_type": "stream",
     "text": [
      "Range: 8\n",
      "Variance: 6.265151515151516\n",
      "Standard Deviation: 2.5030284687057627\n"
     ]
    }
   ],
   "source": [
    "import numpy as np\n",
    "\n",
    "# Sample data\n",
    "data = np.array([1, 2, 2, 3, 4, 4, 4, 5, 6, 7, 8, 9])\n",
    "\n",
    "# Calculate range\n",
    "range_value = np.ptp(data)\n",
    "print(f'Range: {range_value}')\n",
    "\n",
    "# Calculate variance\n",
    "variance = np.var(data, ddof=1)  # ddof=1 for sample variance\n",
    "print(f'Variance: {variance}')\n",
    "\n",
    "# Calculate standard deviation\n",
    "std_dev = np.std(data, ddof=1)  # ddof=1 for sample standard deviation\n",
    "print(f'Standard Deviation: {std_dev}')"
   ]
  },
  {
   "cell_type": "markdown",
   "id": "cdd39bdc",
   "metadata": {},
   "source": [
    "### Degrees of Freedom (df)\n",
    "\n",
    "Degrees of freedom refer to the number of values in a calculation that are free to vary. In statistics, when estimating population parameters (like the population variance or standard deviation) from a sample, you use degrees of freedom to account for the fact that the sample is only an estimate of the population.\n",
    "ddof in Practice\n",
    "\n",
    "   - For Sample Statistics: When calculating sample variance or standard deviation, you typically set ddof=1. This adjusts the divisor to n-1, where n is the number of observations. This is known as Bessel's correction and it provides an unbiased estimator of the population variance and standard deviation.\n",
    "   - For Population Statistics: If you are calculating the population variance or standard deviation, you set ddof=0. This means the divisor is n, the number of observations."
   ]
  },
  {
   "cell_type": "markdown",
   "id": "c5334bd3",
   "metadata": {},
   "source": [
    "## percentile and quartile "
   ]
  },
  {
   "cell_type": "code",
   "execution_count": 5,
   "id": "c2baea76",
   "metadata": {},
   "outputs": [
    {
     "name": "stdout",
     "output_type": "stream",
     "text": [
      "25th Percentile: 2.75\n",
      "50th Percentile (Median): 4.0\n",
      "75th Percentile: 6.25\n",
      "First Quartile (Q1): 2.75\n",
      "Second Quartile (Q2): 4.0\n",
      "Third Quartile (Q3): 6.25\n"
     ]
    }
   ],
   "source": [
    "import numpy as np\n",
    "\n",
    "# Sample data\n",
    "data = np.array([1, 2, 2, 3, 4, 4, 4, 5, 6, 7, 8, 9])\n",
    "\n",
    "# Calculate percentiles\n",
    "percentile_25 = np.percentile(data, 25)  # 25th percentile\n",
    "percentile_50 = np.percentile(data, 50)  # 50th percentile (median)\n",
    "percentile_75 = np.percentile(data, 75)  # 75th percentile\n",
    "\n",
    "print(f'25th Percentile: {percentile_25}')\n",
    "print(f'50th Percentile (Median): {percentile_50}')\n",
    "print(f'75th Percentile: {percentile_75}')\n",
    "\n",
    "# Calculate quartiles\n",
    "q1 = np.percentile(data, 25)  # First quartile (Q1)\n",
    "q2 = np.percentile(data, 50)  # Second quartile (Q2), same as the median\n",
    "q3 = np.percentile(data, 75)  # Third quartile (Q3)\n",
    "\n",
    "print(f'First Quartile (Q1): {q1}')\n",
    "print(f'Second Quartile (Q2): {q2}')\n",
    "print(f'Third Quartile (Q3): {q3}')"
   ]
  },
  {
   "cell_type": "code",
   "execution_count": 6,
   "id": "095b0e69",
   "metadata": {},
   "outputs": [
    {
     "name": "stdout",
     "output_type": "stream",
     "text": [
      "First Quartile (Q1): 2.45\n",
      "Second Quartile (Q2): 4.0\n",
      "Third Quartile (Q3): 6.550000000000001\n"
     ]
    }
   ],
   "source": [
    "# Calculate quartiles using scipy\n",
    "from scipy import stats\n",
    "quartiles = stats.mstats.mquantiles(data, prob=[0.25, 0.5, 0.75])\n",
    "\n",
    "print(f'First Quartile (Q1): {quartiles[0]}')\n",
    "print(f'Second Quartile (Q2): {quartiles[1]}')\n",
    "print(f'Third Quartile (Q3): {quartiles[2]}')"
   ]
  },
  {
   "cell_type": "markdown",
   "id": "c4d783ae",
   "metadata": {},
   "source": [
    "## Five-number summary"
   ]
  },
  {
   "cell_type": "code",
   "execution_count": 7,
   "id": "3184eadd",
   "metadata": {},
   "outputs": [
    {
     "name": "stdout",
     "output_type": "stream",
     "text": [
      "Minimum: 1\n",
      "First Quartile (Q1): 2.75\n",
      "Median (Q2): 4.0\n",
      "Third Quartile (Q3): 6.25\n",
      "Maximum: 9\n"
     ]
    }
   ],
   "source": [
    "import numpy as np\n",
    "\n",
    "# Sample data\n",
    "data = np.array([1, 2, 2, 3, 4, 4, 4, 5, 6, 7, 8, 9])\n",
    "\n",
    "# Calculate the five-number summary\n",
    "min_value = np.min(data)\n",
    "q1 = np.percentile(data, 25)\n",
    "median = np.median(data)\n",
    "q3 = np.percentile(data, 75)\n",
    "max_value = np.max(data)\n",
    "\n",
    "print(f'Minimum: {min_value}')\n",
    "print(f'First Quartile (Q1): {q1}')\n",
    "print(f'Median (Q2): {median}')\n",
    "print(f'Third Quartile (Q3): {q3}')\n",
    "print(f'Maximum: {max_value}')"
   ]
  },
  {
   "cell_type": "markdown",
   "id": "f270f8b2",
   "metadata": {},
   "source": [
    "Using pandas for a more detailed summary\n",
    "\n",
    "You can also use the pandas library to quickly get a descriptive summary of the data, including the five-number summary:"
   ]
  },
  {
   "cell_type": "code",
   "execution_count": 8,
   "id": "096ef4c6",
   "metadata": {},
   "outputs": [
    {
     "name": "stdout",
     "output_type": "stream",
     "text": [
      "count    12.000000\n",
      "mean      4.583333\n",
      "std       2.503028\n",
      "min       1.000000\n",
      "25%       2.750000\n",
      "50%       4.000000\n",
      "75%       6.250000\n",
      "max       9.000000\n",
      "dtype: float64\n"
     ]
    }
   ],
   "source": [
    "import pandas as pd\n",
    "\n",
    "# Sample data\n",
    "data = [1, 2, 2, 3, 4, 4, 4, 5, 6, 7, 8, 9]\n",
    "\n",
    "# Convert to a pandas Series\n",
    "data_series = pd.Series(data)\n",
    "\n",
    "# Get descriptive statistics\n",
    "summary = data_series.describe(percentiles=[.25, .5, .75])\n",
    "\n",
    "print(summary)"
   ]
  },
  {
   "cell_type": "markdown",
   "id": "a6566309",
   "metadata": {},
   "source": [
    "### five-number summary and use it to identify and remove outliers\n",
    "To calculate the five-number summary and use it to identify and remove outliers, you can use the Interquartile Range (IQR). The IQR is the range between the first quartile (Q1) and the third quartile (Q3). Outliers are typically defined as data points that lie below the lower fence or above the upper fence."
   ]
  },
  {
   "cell_type": "code",
   "execution_count": 9,
   "id": "7633c394",
   "metadata": {},
   "outputs": [
    {
     "name": "stdout",
     "output_type": "stream",
     "text": [
      "Original Data:\n",
      "Minimum: 1\n",
      "First Quartile (Q1): 3.0\n",
      "Median (Q2): 4.0\n",
      "Third Quartile (Q3): 7.0\n",
      "Maximum: 100\n",
      "IQR: 4.0\n",
      "Lower Fence: -3.0\n",
      "Upper Fence: 13.0\n",
      "\n",
      "Filtered Data (without outliers):\n",
      "Minimum: 1\n",
      "First Quartile (Q1): 2.75\n",
      "Median (Q2): 4.0\n",
      "Third Quartile (Q3): 6.25\n",
      "Maximum: 9\n"
     ]
    }
   ],
   "source": [
    "import numpy as np\n",
    "\n",
    "# Sample data\n",
    "data = np.array([1, 2, 2, 3, 4, 4, 4, 5, 6, 7, 8, 9, 100])  # Added an outlier for demonstration\n",
    "\n",
    "# Calculate the five-number summary\n",
    "min_value = np.min(data)\n",
    "q1 = np.percentile(data, 25)\n",
    "median = np.median(data)\n",
    "q3 = np.percentile(data, 75)\n",
    "max_value = np.max(data)\n",
    "\n",
    "# Calculate IQR\n",
    "iqr = q3 - q1\n",
    "\n",
    "# Calculate fences for outliers\n",
    "lower_fence = q1 - 1.5 * iqr\n",
    "upper_fence = q3 + 1.5 * iqr\n",
    "\n",
    "# Identify and remove outliers\n",
    "filtered_data = data[(data >= lower_fence) & (data <= upper_fence)]\n",
    "\n",
    "# Recalculate the five-number summary without outliers\n",
    "min_value_filtered = np.min(filtered_data)\n",
    "q1_filtered = np.percentile(filtered_data, 25)\n",
    "median_filtered = np.median(filtered_data)\n",
    "q3_filtered = np.percentile(filtered_data, 75)\n",
    "max_value_filtered = np.max(filtered_data)\n",
    "\n",
    "print(\"Original Data:\")\n",
    "print(f'Minimum: {min_value}')\n",
    "print(f'First Quartile (Q1): {q1}')\n",
    "print(f'Median (Q2): {median}')\n",
    "print(f'Third Quartile (Q3): {q3}')\n",
    "print(f'Maximum: {max_value}')\n",
    "print(f'IQR: {iqr}')\n",
    "print(f'Lower Fence: {lower_fence}')\n",
    "print(f'Upper Fence: {upper_fence}')\n",
    "\n",
    "print(\"\\nFiltered Data (without outliers):\")\n",
    "print(f'Minimum: {min_value_filtered}')\n",
    "print(f'First Quartile (Q1): {q1_filtered}')\n",
    "print(f'Median (Q2): {median_filtered}')\n",
    "print(f'Third Quartile (Q3): {q3_filtered}')\n",
    "print(f'Maximum: {max_value_filtered}')"
   ]
  },
  {
   "cell_type": "markdown",
   "id": "30fed049",
   "metadata": {},
   "source": [
    "To visualize the five-number summary and identify outliers, you can use a box plot. The matplotlib library in Python is commonly used for this purpose. Here's how you can create a box plot for the dataset, including the removal of outliers based on the IQR method."
   ]
  },
  {
   "cell_type": "code",
   "execution_count": 10,
   "id": "13675bfa",
   "metadata": {},
   "outputs": [
    {
     "data": {
      "image/png": "[encoded data removed]",
      "text/plain": [
       "<Figure size 1000x500 with 2 Axes>"
      ]
     },
     "metadata": {},
     "output_type": "display_data"
    }
   ],
   "source": [
    "import numpy as np\n",
    "import matplotlib.pyplot as plt\n",
    "\n",
    "# Sample data\n",
    "data = np.array([1, 2, 2, 3, 4, 4, 4, 5, 6, 7, 8, 9, 80,100])  # Added an outlier for demonstration\n",
    "\n",
    "# Calculate the five-number summary\n",
    "min_value = np.min(data)\n",
    "q1 = np.percentile(data, 25)\n",
    "median = np.median(data)\n",
    "q3 = np.percentile(data, 75)\n",
    "max_value = np.max(data)\n",
    "\n",
    "# Calculate IQR\n",
    "iqr = q3 - q1\n",
    "\n",
    "# Calculate fences for outliers\n",
    "lower_fence = q1 - 1.5 * iqr\n",
    "upper_fence = q3 + 1.5 * iqr\n",
    "\n",
    "# Identify and remove outliers\n",
    "filtered_data = data[(data >= lower_fence) & (data <= upper_fence)]\n",
    "\n",
    "# Box plot before removing outliers\n",
    "plt.figure(figsize=(10, 5))\n",
    "plt.subplot(1, 2, 1)\n",
    "plt.boxplot(data)\n",
    "plt.title('Box Plot with Outliers')\n",
    "plt.ylabel('Values')\n",
    "\n",
    "# Box plot after removing outliers\n",
    "plt.subplot(1, 2, 2)\n",
    "plt.boxplot(filtered_data)\n",
    "plt.title('Box Plot without Outliers')\n",
    "plt.ylabel('Values')\n",
    "\n",
    "plt.tight_layout()\n",
    "plt.show()"
   ]
  },
  {
   "cell_type": "markdown",
   "id": "0e100c56",
   "metadata": {},
   "source": [
    "#### Prepared By,\n",
    "Ahamed Basith"
   ]
  },
  {
   "cell_type": "code",
   "execution_count": null,
   "id": "0e43a45f",
   "metadata": {},
   "outputs": [],
   "source": []
  }
 ],
 "metadata": {
  "kernelspec": {
   "display_name": "Python 3 (ipykernel)",
   "language": "python",
   "name": "python3"
  },
  "language_info": {
   "codemirror_mode": {
    "name": "ipython",
    "version": 3
   },
   "file_extension": ".py",
   "mimetype": "text/x-python",
   "name": "python",
   "nbconvert_exporter": "python",
   "pygments_lexer": "ipython3",
   "version": "3.11.5"
  }
 },
 "nbformat": 4,
 "nbformat_minor": 5
}
