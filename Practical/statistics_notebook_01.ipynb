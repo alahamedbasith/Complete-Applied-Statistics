{
 "cells": [
  {
   "cell_type": "markdown",
   "id": "5768c7d7",
   "metadata": {},
   "source": [
    "# Lecture-01 Practial"
   ]
  },
  {
   "cell_type": "markdown",
   "id": "d721d1a3",
   "metadata": {},
   "source": [
    "## Variable Measurement Scales"
   ]
  },
  {
   "cell_type": "code",
   "execution_count": 1,
   "id": "d46b8cd7",
   "metadata": {},
   "outputs": [],
   "source": [
    "import pandas as pd\n",
    "import numpy as np\n",
    "from scipy import stats\n",
    "\n",
    "# Sample data\n",
    "data = {\n",
    "    'nominal': ['red', 'blue', 'green', 'blue', 'red', 'green', 'green', 'red'],\n",
    "    'ordinal': ['low', 'medium', 'high', 'medium', 'low', 'high', 'low', 'medium'],\n",
    "    'interval': [10, 20, 30, 20, 10, 30, 20, 10],\n",
    "    'ratio': [1.5, 2.3, 3.7, 2.1, 1.9, 3.5, 2.0, 1.8]\n",
    "}"
   ]
  },
  {
   "cell_type": "code",
   "execution_count": 2,
   "id": "c34e6eef",
   "metadata": {},
   "outputs": [
    {
     "data": {
      "text/html": [
       "<div>\n",
       "<style scoped>\n",
       "    .dataframe tbody tr th:only-of-type {\n",
       "        vertical-align: middle;\n",
       "    }\n",
       "\n",
       "    .dataframe tbody tr th {\n",
       "        vertical-align: top;\n",
       "    }\n",
       "\n",
       "    .dataframe thead th {\n",
       "        text-align: right;\n",
       "    }\n",
       "</style>\n",
       "<table border=\"1\" class=\"dataframe\">\n",
       "  <thead>\n",
       "    <tr style=\"text-align: right;\">\n",
       "      <th></th>\n",
       "      <th>nominal</th>\n",
       "      <th>ordinal</th>\n",
       "      <th>interval</th>\n",
       "      <th>ratio</th>\n",
       "    </tr>\n",
       "  </thead>\n",
       "  <tbody>\n",
       "    <tr>\n",
       "      <th>0</th>\n",
       "      <td>red</td>\n",
       "      <td>low</td>\n",
       "      <td>10</td>\n",
       "      <td>1.5</td>\n",
       "    </tr>\n",
       "    <tr>\n",
       "      <th>1</th>\n",
       "      <td>blue</td>\n",
       "      <td>medium</td>\n",
       "      <td>20</td>\n",
       "      <td>2.3</td>\n",
       "    </tr>\n",
       "    <tr>\n",
       "      <th>2</th>\n",
       "      <td>green</td>\n",
       "      <td>high</td>\n",
       "      <td>30</td>\n",
       "      <td>3.7</td>\n",
       "    </tr>\n",
       "    <tr>\n",
       "      <th>3</th>\n",
       "      <td>blue</td>\n",
       "      <td>medium</td>\n",
       "      <td>20</td>\n",
       "      <td>2.1</td>\n",
       "    </tr>\n",
       "    <tr>\n",
       "      <th>4</th>\n",
       "      <td>red</td>\n",
       "      <td>low</td>\n",
       "      <td>10</td>\n",
       "      <td>1.9</td>\n",
       "    </tr>\n",
       "    <tr>\n",
       "      <th>5</th>\n",
       "      <td>green</td>\n",
       "      <td>high</td>\n",
       "      <td>30</td>\n",
       "      <td>3.5</td>\n",
       "    </tr>\n",
       "    <tr>\n",
       "      <th>6</th>\n",
       "      <td>green</td>\n",
       "      <td>low</td>\n",
       "      <td>20</td>\n",
       "      <td>2.0</td>\n",
       "    </tr>\n",
       "    <tr>\n",
       "      <th>7</th>\n",
       "      <td>red</td>\n",
       "      <td>medium</td>\n",
       "      <td>10</td>\n",
       "      <td>1.8</td>\n",
       "    </tr>\n",
       "  </tbody>\n",
       "</table>\n",
       "</div>"
      ],
      "text/plain": [
       "  nominal ordinal  interval  ratio\n",
       "0     red     low        10    1.5\n",
       "1    blue  medium        20    2.3\n",
       "2   green    high        30    3.7\n",
       "3    blue  medium        20    2.1\n",
       "4     red     low        10    1.9\n",
       "5   green    high        30    3.5\n",
       "6   green     low        20    2.0\n",
       "7     red  medium        10    1.8"
      ]
     },
     "execution_count": 2,
     "metadata": {},
     "output_type": "execute_result"
    }
   ],
   "source": [
    "df = pd.DataFrame(data)\n",
    "df"
   ]
  },
  {
   "cell_type": "markdown",
   "id": "f8774702",
   "metadata": {},
   "source": [
    "### Nominal data analysis"
   ]
  },
  {
   "cell_type": "code",
   "execution_count": 3,
   "id": "4468c0c7",
   "metadata": {},
   "outputs": [
    {
     "name": "stdout",
     "output_type": "stream",
     "text": [
      "Nominal data counts:\n",
      "nominal\n",
      "red      3\n",
      "green    3\n",
      "blue     2\n",
      "Name: count, dtype: int64\n"
     ]
    }
   ],
   "source": [
    "# Nominal data analysis\n",
    "nominal_counts = df['nominal'].value_counts()\n",
    "print(\"Nominal data counts:\")\n",
    "print(nominal_counts)"
   ]
  },
  {
   "cell_type": "markdown",
   "id": "d3e2b926",
   "metadata": {},
   "source": [
    "### Ordinal data analysis"
   ]
  },
  {
   "cell_type": "code",
   "execution_count": 4,
   "id": "89f1e309",
   "metadata": {},
   "outputs": [
    {
     "data": {
      "text/plain": [
       "['low', 'medium', 'high', 'medium', 'low', 'high', 'low', 'medium']\n",
       "Categories (3, object): ['low' < 'medium' < 'high']"
      ]
     },
     "execution_count": 4,
     "metadata": {},
     "output_type": "execute_result"
    }
   ],
   "source": [
    "# Ordinal data analysis\n",
    "ordinal_categories = pd.Categorical(df['ordinal'], categories=['low', 'medium', 'high'], ordered=True)\n",
    "ordinal_categories"
   ]
  },
  {
   "cell_type": "code",
   "execution_count": 5,
   "id": "687461d8",
   "metadata": {},
   "outputs": [
    {
     "data": {
      "text/plain": [
       "['low', 'medium', 'high', 'medium', 'low', 'high', 'low', 'medium']\n",
       "Categories (3, object): ['high', 'medium', 'low']"
      ]
     },
     "execution_count": 5,
     "metadata": {},
     "output_type": "execute_result"
    }
   ],
   "source": [
    "ordinal_categories = pd.Categorical(df['ordinal'], categories=['high', 'medium', 'low'], ordered=False)\n",
    "ordinal_categories"
   ]
  },
  {
   "cell_type": "code",
   "execution_count": 6,
   "id": "1f9e7bb7",
   "metadata": {},
   "outputs": [
    {
     "name": "stdout",
     "output_type": "stream",
     "text": [
      "\n",
      "Ordinal data counts:\n",
      "high      2\n",
      "medium    3\n",
      "low       3\n",
      "Name: count, dtype: int64\n"
     ]
    }
   ],
   "source": [
    "ordinal_counts = ordinal_categories.value_counts()\n",
    "print(\"\\nOrdinal data counts:\")\n",
    "print(ordinal_counts)"
   ]
  },
  {
   "cell_type": "markdown",
   "id": "eb6908bb",
   "metadata": {},
   "source": [
    "### Interval data analysis"
   ]
  },
  {
   "cell_type": "code",
   "execution_count": 7,
   "id": "25eb0a28",
   "metadata": {},
   "outputs": [
    {
     "name": "stdout",
     "output_type": "stream",
     "text": [
      "\n",
      "Interval data analysis:\n",
      "Mean: 18.75, Standard Deviation: 7.806247497997997\n"
     ]
    }
   ],
   "source": [
    "# Interval data analysis\n",
    "interval_mean = np.mean(df['interval'])\n",
    "interval_std = np.std(df['interval'])\n",
    "print(\"\\nInterval data analysis:\")\n",
    "print(f\"Mean: {interval_mean}, Standard Deviation: {interval_std}\")"
   ]
  },
  {
   "cell_type": "markdown",
   "id": "46b26b80",
   "metadata": {},
   "source": [
    "### Ratio data analysis"
   ]
  },
  {
   "cell_type": "code",
   "execution_count": 8,
   "id": "004110ae",
   "metadata": {},
   "outputs": [
    {
     "name": "stdout",
     "output_type": "stream",
     "text": [
      "\n",
      "Ratio data analysis:\n",
      "Mean: 2.35, Standard Deviation: 0.754983443527075, Min: 1.5, Max: 3.7\n"
     ]
    }
   ],
   "source": [
    "# Ratio data analysis\n",
    "ratio_mean = np.mean(df['ratio'])\n",
    "ratio_std = np.std(df['ratio'])\n",
    "ratio_min = np.min(df['ratio'])\n",
    "ratio_max = np.max(df['ratio'])\n",
    "print(\"\\nRatio data analysis:\")\n",
    "print(f\"Mean: {ratio_mean}, Standard Deviation: {ratio_std}, Min: {ratio_min}, Max: {ratio_max}\")"
   ]
  },
  {
   "cell_type": "markdown",
   "id": "6b43748e",
   "metadata": {},
   "source": [
    "### Nominal data mostly used in categorical variable so we perform chi square test"
   ]
  },
  {
   "cell_type": "code",
   "execution_count": 9,
   "id": "91a75efb",
   "metadata": {},
   "outputs": [
    {
     "data": {
      "text/html": [
       "<div>\n",
       "<style scoped>\n",
       "    .dataframe tbody tr th:only-of-type {\n",
       "        vertical-align: middle;\n",
       "    }\n",
       "\n",
       "    .dataframe tbody tr th {\n",
       "        vertical-align: top;\n",
       "    }\n",
       "\n",
       "    .dataframe thead th {\n",
       "        text-align: right;\n",
       "    }\n",
       "</style>\n",
       "<table border=\"1\" class=\"dataframe\">\n",
       "  <thead>\n",
       "    <tr style=\"text-align: right;\">\n",
       "      <th>ordinal</th>\n",
       "      <th>high</th>\n",
       "      <th>low</th>\n",
       "      <th>medium</th>\n",
       "    </tr>\n",
       "    <tr>\n",
       "      <th>nominal</th>\n",
       "      <th></th>\n",
       "      <th></th>\n",
       "      <th></th>\n",
       "    </tr>\n",
       "  </thead>\n",
       "  <tbody>\n",
       "    <tr>\n",
       "      <th>blue</th>\n",
       "      <td>0</td>\n",
       "      <td>0</td>\n",
       "      <td>2</td>\n",
       "    </tr>\n",
       "    <tr>\n",
       "      <th>green</th>\n",
       "      <td>2</td>\n",
       "      <td>1</td>\n",
       "      <td>0</td>\n",
       "    </tr>\n",
       "    <tr>\n",
       "      <th>red</th>\n",
       "      <td>0</td>\n",
       "      <td>2</td>\n",
       "      <td>1</td>\n",
       "    </tr>\n",
       "  </tbody>\n",
       "</table>\n",
       "</div>"
      ],
      "text/plain": [
       "ordinal  high  low  medium\n",
       "nominal                   \n",
       "blue        0    0       2\n",
       "green       2    1       0\n",
       "red         0    2       1"
      ]
     },
     "execution_count": 9,
     "metadata": {},
     "output_type": "execute_result"
    }
   ],
   "source": [
    "# contingency table\n",
    "pd.crosstab(df['nominal'], df['ordinal'])"
   ]
  },
  {
   "cell_type": "code",
   "execution_count": 10,
   "id": "ed5ac54f",
   "metadata": {},
   "outputs": [
    {
     "name": "stdout",
     "output_type": "stream",
     "text": [
      "\n",
      "Chi-square test for independence between nominal and ordinal data:\n",
      "Chi2: 8.0, p-value: 0.0915781944436709\n"
     ]
    }
   ],
   "source": [
    "# Example: Chi-square test for nominal data\n",
    "chi2, p, _, _ = stats.chi2_contingency(pd.crosstab(df['nominal'], df['ordinal']))\n",
    "print(\"\\nChi-square test for independence between nominal and ordinal data:\")\n",
    "print(f\"Chi2: {chi2}, p-value: {p}\")"
   ]
  },
  {
   "cell_type": "markdown",
   "id": "c3770df4",
   "metadata": {},
   "source": [
    "## Frequency Distribution Graph"
   ]
  },
  {
   "cell_type": "markdown",
   "id": "87bcf9ba",
   "metadata": {},
   "source": [
    "### Bar Graph"
   ]
  },
  {
   "cell_type": "code",
   "execution_count": 11,
   "id": "6694ee99",
   "metadata": {},
   "outputs": [
    {
     "data": {
      "text/html": [
       "<div>\n",
       "<style scoped>\n",
       "    .dataframe tbody tr th:only-of-type {\n",
       "        vertical-align: middle;\n",
       "    }\n",
       "\n",
       "    .dataframe tbody tr th {\n",
       "        vertical-align: top;\n",
       "    }\n",
       "\n",
       "    .dataframe thead th {\n",
       "        text-align: right;\n",
       "    }\n",
       "</style>\n",
       "<table border=\"1\" class=\"dataframe\">\n",
       "  <thead>\n",
       "    <tr style=\"text-align: right;\">\n",
       "      <th></th>\n",
       "      <th>Favorite Color</th>\n",
       "      <th>Satisfaction Level</th>\n",
       "    </tr>\n",
       "  </thead>\n",
       "  <tbody>\n",
       "    <tr>\n",
       "      <th>0</th>\n",
       "      <td>Red</td>\n",
       "      <td>Low</td>\n",
       "    </tr>\n",
       "    <tr>\n",
       "      <th>1</th>\n",
       "      <td>Blue</td>\n",
       "      <td>Medium</td>\n",
       "    </tr>\n",
       "    <tr>\n",
       "      <th>2</th>\n",
       "      <td>Green</td>\n",
       "      <td>High</td>\n",
       "    </tr>\n",
       "    <tr>\n",
       "      <th>3</th>\n",
       "      <td>Blue</td>\n",
       "      <td>Medium</td>\n",
       "    </tr>\n",
       "    <tr>\n",
       "      <th>4</th>\n",
       "      <td>Red</td>\n",
       "      <td>Low</td>\n",
       "    </tr>\n",
       "    <tr>\n",
       "      <th>5</th>\n",
       "      <td>Green</td>\n",
       "      <td>High</td>\n",
       "    </tr>\n",
       "    <tr>\n",
       "      <th>6</th>\n",
       "      <td>Green</td>\n",
       "      <td>Low</td>\n",
       "    </tr>\n",
       "    <tr>\n",
       "      <th>7</th>\n",
       "      <td>Red</td>\n",
       "      <td>Medium</td>\n",
       "    </tr>\n",
       "    <tr>\n",
       "      <th>8</th>\n",
       "      <td>Blue</td>\n",
       "      <td>High</td>\n",
       "    </tr>\n",
       "    <tr>\n",
       "      <th>9</th>\n",
       "      <td>Green</td>\n",
       "      <td>Medium</td>\n",
       "    </tr>\n",
       "  </tbody>\n",
       "</table>\n",
       "</div>"
      ],
      "text/plain": [
       "  Favorite Color Satisfaction Level\n",
       "0            Red                Low\n",
       "1           Blue             Medium\n",
       "2          Green               High\n",
       "3           Blue             Medium\n",
       "4            Red                Low\n",
       "5          Green               High\n",
       "6          Green                Low\n",
       "7            Red             Medium\n",
       "8           Blue               High\n",
       "9          Green             Medium"
      ]
     },
     "execution_count": 11,
     "metadata": {},
     "output_type": "execute_result"
    }
   ],
   "source": [
    "import pandas as pd\n",
    "import matplotlib.pyplot as plt\n",
    "\n",
    "# Sample data\n",
    "data = {\n",
    "    'Favorite Color': ['Red', 'Blue', 'Green', 'Blue', 'Red', 'Green', 'Green', 'Red', 'Blue', 'Green'],\n",
    "    'Satisfaction Level': ['Low', 'Medium', 'High', 'Medium', 'Low', 'High', 'Low', 'Medium', 'High', 'Medium']\n",
    "}\n",
    "\n",
    "# Create DataFrame\n",
    "df = pd.DataFrame(data)\n",
    "df"
   ]
  },
  {
   "cell_type": "code",
   "execution_count": 12,
   "id": "c4dc374b",
   "metadata": {},
   "outputs": [
    {
     "data": {
      "text/plain": [
       "Favorite Color\n",
       "Green    4\n",
       "Red      3\n",
       "Blue     3\n",
       "Name: count, dtype: int64"
      ]
     },
     "execution_count": 12,
     "metadata": {},
     "output_type": "execute_result"
    }
   ],
   "source": [
    "# Frequency distribution for 'Favorite Color'\n",
    "color_counts = df['Favorite Color'].value_counts()\n",
    "color_counts"
   ]
  },
  {
   "cell_type": "code",
   "execution_count": 13,
   "id": "f93fe1d6",
   "metadata": {},
   "outputs": [
    {
     "data": {
      "image/png": "[encoded data removed]",
      "text/plain": [
       "<Figure size 640x480 with 1 Axes>"
      ]
     },
     "metadata": {},
     "output_type": "display_data"
    }
   ],
   "source": [
    "# Plot bar graph\n",
    "color_counts.plot(kind='bar', color=['green', 'red', 'blue'])\n",
    "plt.xlabel('Favorite Color')\n",
    "plt.ylabel('Frequency')\n",
    "plt.title('Frequency Distribution of Favorite Colors')\n",
    "plt.show()"
   ]
  },
  {
   "cell_type": "markdown",
   "id": "7fb47011",
   "metadata": {},
   "source": [
    "### Histogram Graph"
   ]
  },
  {
   "cell_type": "code",
   "execution_count": 14,
   "id": "c0be3df5",
   "metadata": {},
   "outputs": [
    {
     "data": {
      "text/plain": [
       "Age\n",
       "21    3\n",
       "22    3\n",
       "23    2\n",
       "25    2\n",
       "Name: count, dtype: int64"
      ]
     },
     "execution_count": 14,
     "metadata": {},
     "output_type": "execute_result"
    }
   ],
   "source": [
    "import numpy as np\n",
    "\n",
    "# Sample numerical data\n",
    "df['Age'] = [22, 25, 21, 23, 22, 21, 25, 22, 23, 21]\n",
    "\n",
    "# Frequency distribution for 'Age'\n",
    "age_counts = df['Age'].value_counts().sort_index()\n",
    "age_counts"
   ]
  },
  {
   "cell_type": "code",
   "execution_count": 15,
   "id": "4d9820e1",
   "metadata": {},
   "outputs": [
    {
     "data": {
      "text/html": [
       "<div>\n",
       "<style scoped>\n",
       "    .dataframe tbody tr th:only-of-type {\n",
       "        vertical-align: middle;\n",
       "    }\n",
       "\n",
       "    .dataframe tbody tr th {\n",
       "        vertical-align: top;\n",
       "    }\n",
       "\n",
       "    .dataframe thead th {\n",
       "        text-align: right;\n",
       "    }\n",
       "</style>\n",
       "<table border=\"1\" class=\"dataframe\">\n",
       "  <thead>\n",
       "    <tr style=\"text-align: right;\">\n",
       "      <th></th>\n",
       "      <th>0</th>\n",
       "    </tr>\n",
       "  </thead>\n",
       "  <tbody>\n",
       "    <tr>\n",
       "      <th>0</th>\n",
       "      <td>22</td>\n",
       "    </tr>\n",
       "    <tr>\n",
       "      <th>1</th>\n",
       "      <td>25</td>\n",
       "    </tr>\n",
       "    <tr>\n",
       "      <th>2</th>\n",
       "      <td>21</td>\n",
       "    </tr>\n",
       "    <tr>\n",
       "      <th>3</th>\n",
       "      <td>23</td>\n",
       "    </tr>\n",
       "    <tr>\n",
       "      <th>4</th>\n",
       "      <td>22</td>\n",
       "    </tr>\n",
       "    <tr>\n",
       "      <th>5</th>\n",
       "      <td>21</td>\n",
       "    </tr>\n",
       "    <tr>\n",
       "      <th>6</th>\n",
       "      <td>25</td>\n",
       "    </tr>\n",
       "    <tr>\n",
       "      <th>7</th>\n",
       "      <td>22</td>\n",
       "    </tr>\n",
       "    <tr>\n",
       "      <th>8</th>\n",
       "      <td>23</td>\n",
       "    </tr>\n",
       "    <tr>\n",
       "      <th>9</th>\n",
       "      <td>21</td>\n",
       "    </tr>\n",
       "  </tbody>\n",
       "</table>\n",
       "</div>"
      ],
      "text/plain": [
       "    0\n",
       "0  22\n",
       "1  25\n",
       "2  21\n",
       "3  23\n",
       "4  22\n",
       "5  21\n",
       "6  25\n",
       "7  22\n",
       "8  23\n",
       "9  21"
      ]
     },
     "execution_count": 15,
     "metadata": {},
     "output_type": "execute_result"
    }
   ],
   "source": [
    "# Plot histogram\n",
    "import pandas as pd\n",
    "import numpy as np\n",
    "import matplotlib.pyplot as plt\n",
    "import seaborn as sns\n",
    "\n",
    "age = [22, 25, 21, 23, 22, 21, 25, 22, 23, 21]\n",
    "\n",
    "df_age = pd.DataFrame(age)\n",
    "\n",
    "df_age"
   ]
  },
  {
   "cell_type": "code",
   "execution_count": 16,
   "id": "cb4679c9",
   "metadata": {},
   "outputs": [
    {
     "data": {
      "image/png": "[encoded data removed]",
      "text/plain": [
       "<Figure size 1000x500 with 1 Axes>"
      ]
     },
     "metadata": {},
     "output_type": "display_data"
    }
   ],
   "source": [
    "# Plot histogram with KDE using seaborn\n",
    "plt.figure(figsize=(10, 5))\n",
    "sns.histplot(df['Age'], bins=np.arange(20, 27) - 0.5, kde=True, edgecolor='black')\n",
    "plt.xlabel('Age')\n",
    "plt.ylabel('Frequency')\n",
    "plt.title('Frequency Distribution of Ages with KDE')\n",
    "plt.xticks(range(20, 40))\n",
    "plt.show()"
   ]
  },
  {
   "cell_type": "markdown",
   "id": "d98cbad4",
   "metadata": {},
   "source": [
    "    np.arange(20, 27):\n",
    "        This generates an array of values starting from 20 up to (but not including) 27.\n",
    "        It will produce the array [20, 21, 22, 23, 24, 25, 26].\n",
    "\n",
    "    - 0.5:\n",
    "        This subtracts 0.5 from each element of the array [20, 21, 22, 23, 24, 25, 26].\n",
    "        It shifts the bins slightly to the left, resulting in the array [19.5, 20.5, 21.5, 22.5, 23.5, 24.5, 25.5].\n",
    "\n",
    "Why Shift the Bins?\n",
    "\n",
    "Shifting the bins by 0.5 ensures that each bin is centered around the integer age values. This way, the bin edges fall between the integer values, making the histogram more intuitive to read. For example, a bin edge at 19.5 to 20.5 means that the bin effectively covers ages around 20."
   ]
  },
  {
   "cell_type": "markdown",
   "id": "95d8bab4",
   "metadata": {},
   "source": [
    "#### Prepared By,\n",
    "Ahamed Basith"
   ]
  },
  {
   "cell_type": "code",
   "execution_count": null,
   "id": "20654ffa",
   "metadata": {},
   "outputs": [],
   "source": []
  }
 ],
 "metadata": {
  "kernelspec": {
   "display_name": "Python 3 (ipykernel)",
   "language": "python",
   "name": "python3"
  },
  "language_info": {
   "codemirror_mode": {
    "name": "ipython",
    "version": 3
   },
   "file_extension": ".py",
   "mimetype": "text/x-python",
   "name": "python",
   "nbconvert_exporter": "python",
   "pygments_lexer": "ipython3",
   "version": "3.11.5"
  }
 },
 "nbformat": 4,
 "nbformat_minor": 5
}
