{
 "cells": [
  {
   "cell_type": "markdown",
   "id": "e7aadffc",
   "metadata": {},
   "source": [
    "# Lecture - 04"
   ]
  },
  {
   "cell_type": "markdown",
   "id": "e5db815e",
   "metadata": {},
   "source": [
    "## Probability\n",
    "Probability is the measure of the likelihood that an event will occur."
   ]
  },
  {
   "cell_type": "code",
   "execution_count": 1,
   "id": "9616459c",
   "metadata": {},
   "outputs": [
    {
     "data": {
      "text/plain": [
       "0.16666666666666666"
      ]
     },
     "execution_count": 1,
     "metadata": {},
     "output_type": "execute_result"
    }
   ],
   "source": [
    "# Probability of getting a 3 when rolling a fair six-sided die\n",
    "1/6"
   ]
  },
  {
   "cell_type": "markdown",
   "id": "e9fd5d88",
   "metadata": {},
   "source": [
    "## Addition and Multiplication Rules in Probability\n",
    "\n",
    "### Real-Time Example\n",
    "\n",
    "**Scenario:**\n",
    "- You are at a store that sells two brands of drinks: Brand A and Brand B.\n",
    "- The probability that a customer buys a drink from Brand A is 0.3.\n",
    "- The probability that a customer buys a drink from Brand B is 0.4.\n",
    "- The probability that a customer buys both Brand A and Brand B drinks is 0.1.\n",
    "\n",
    "We will use this scenario to apply the addition and multiplication rules.\n",
    "\n",
    "### Addition Rule Example\n",
    "\n",
    "**Question:** What is the probability that a customer buys either a Brand A drink or a Brand B drink?\n",
    "\n",
    "Since the events are not mutually exclusive (a customer can buy both), we use:\n",
    "\n",
    "\\[ P(A \\cup B) = P(A) + P(B) - P(A \\cap B) \\]\n",
    "\n",
    "```python\n",
    "# Probabilities\n",
    "P_A = 0.3  # Probability of buying Brand A\n",
    "P_B = 0.4  # Probability of buying Brand B\n",
    "P_A_and_B = 0.1  # Probability of buying both Brand A and Brand B\n",
    "\n",
    "# Addition rule\n",
    "P_A_or_B = P_A + P_B - P_A_and_B\n",
    "\n",
    "print(f\"Probability of buying either Brand A or Brand B: {P_A_or_B}\")\n",
    "```\n",
    "\n",
    "### Multiplication Rule Example\n",
    "\n",
    "**Scenario:**\n",
    "- The probability that a customer buys a Brand A drink is 0.3.\n",
    "- If a customer buys a Brand A drink, the probability that they also buy a Brand B drink is 0.5 (conditional probability).\n",
    "\n",
    "**Question:** What is the probability that a customer buys both Brand A and Brand B drinks?\n",
    "\n",
    "Since the events are dependent (the purchase of Brand B depends on the purchase of Brand A), we use:\n",
    "\n",
    "\\[ P(A \\cap B) = P(A) \\times P(B|A) \\]\n",
    "\n",
    "```python\n",
    "# Probabilities\n",
    "P_A = 0.3  # Probability of buying Brand A\n",
    "P_B_given_A = 0.5  # Probability of buying Brand B given that Brand A was bought\n",
    "\n",
    "# Multiplication rule for dependent events\n",
    "P_A_and_B_dependent = P_A * P_B_given_A\n",
    "\n",
    "print(f\"Probability of buying both Brand A and Brand B (dependent): {P_A_and_B_dependent}\")\n",
    "```\n",
    "\n",
    "### Independent Events Example\n",
    "\n",
    "**Scenario:**\n",
    "- The probability that a customer buys a Brand A drink is 0.3.\n",
    "- The probability that a customer buys a Brand B drink, independent of Brand A, is 0.4.\n",
    "\n",
    "**Question:** What is the probability that a customer buys both a Brand A and a Brand B drink?\n",
    "\n",
    "Since the events are independent, we use:\n",
    "\n",
    "\\[ P(A \\cap B) = P(A) \\times P(B) \\]\n",
    "\n",
    "```python\n",
    "# Probabilities\n",
    "P_A = 0.3  # Probability of buying Brand A\n",
    "P_B = 0.4  # Probability of buying Brand B (independent)\n",
    "\n",
    "# Multiplication rule for independent events\n",
    "P_A_and_B_independent = P_A * P_B\n",
    "\n",
    "print(f\"Probability of buying both Brand A and Brand B (independent): {P_A_and_B_independent}\")\n",
    "```\n",
    "\n",
    "In summary:\n",
    "- The addition rule calculates the probability of either event happening.\n",
    "- The multiplication rule calculates the probability of both events happening, considering whether the events are independent or dependent."
   ]
  },
  {
   "cell_type": "markdown",
   "id": "a68fab11",
   "metadata": {},
   "source": [
    "## Permutations and Combinations\n",
    "\n",
    "Sure! Let's consider a real-world example involving permutations and combinations.\n",
    "\n",
    "### Real-Time Example\n",
    "\n",
    "**Scenario:**\n",
    "1. **Permutations:** You have 3 different books (A, B, C) and you want to arrange 2 of them on a shelf. The order matters.\n",
    "2. **Combinations:** You have 3 different books (A, B, C) and you want to choose 2 of them to take on a trip. The order does not matter.\n",
    "\n",
    "### Permutations\n",
    "\n",
    "When the order matters, we use permutations. The formula for permutations of \\(n\\) objects taken \\(r\\) at a time is given by:\n",
    "\n",
    "\\[ P(n, r) = \\frac{n!}{(n-r)!} \\]\n",
    "\n",
    "In our example, we have 3 books and we want to arrange 2 of them. So we calculate \\(P(3, 2)\\).\n",
    "\n",
    "```python\n",
    "import itertools\n",
    "\n",
    "# List of books\n",
    "books = ['A', 'B', 'C']\n",
    "\n",
    "# Generate permutations of 3 books taken 2 at a time\n",
    "perm = list(itertools.permutations(books, 2))\n",
    "\n",
    "print(f\"Permutations of 3 books taken 2 at a time: {perm}\")\n",
    "```\n",
    "\n",
    "### Combinations\n",
    "\n",
    "When the order does not matter, we use combinations. The formula for combinations of \\(n\\) objects taken \\(r\\) at a time is given by:\n",
    "\n",
    "\\[ C(n, r) = \\frac{n!}{r!(n-r)!} \\]\n",
    "\n",
    "In our example, we have 3 books and we want to choose 2 of them. So we calculate \\(C(3, 2)\\).\n",
    "\n",
    "```python\n",
    "import itertools\n",
    "\n",
    "# List of books\n",
    "books = ['A', 'B', 'C']\n",
    "\n",
    "# Generate combinations of 3 books taken 2 at a time\n",
    "comb = list(itertools.combinations(books, 2))\n",
    "\n",
    "print(f\"Combinations of 3 books taken 2 at a time: {comb}\")\n",
    "```\n",
    "\n",
    "### Output\n",
    "When you run the code, you will get:\n",
    "\n",
    "```python\n",
    "Permutations of 3 books taken 2 at a time: [('A', 'B'), ('A', 'C'), ('B', 'A'), ('B', 'C'), ('C', 'A'), ('C', 'B')]\n",
    "Combinations of 3 books taken 2 at a time: [('A', 'B'), ('A', 'C'), ('B', 'C')]\n",
    "```\n",
    "\n",
    "### Explanation\n",
    "1. **Permutations:**\n",
    "   - The order matters, so 'A' followed by 'B' is different from 'B' followed by 'A'.\n",
    "   - The permutations are ('A', 'B'), ('A', 'C'), ('B', 'A'), ('B', 'C'), ('C', 'A'), and ('C', 'B').\n",
    "\n",
    "2. **Combinations:**\n",
    "   - The order does not matter, so 'A' and 'B' is the same as 'B' and 'A'.\n",
    "   - The combinations are ('A', 'B'), ('A', 'C'), and ('B', 'C').\n",
    "\n",
    "These examples show how to use permutations and combinations to solve real-world problems where order either matters or does not matter."
   ]
  },
  {
   "cell_type": "markdown",
   "id": "953b5fae",
   "metadata": {},
   "source": [
    "## Confidence Interval\n",
    "A confidence interval is a range of values that is likely to contain a population parameter with a certain level of confidence."
   ]
  },
  {
   "cell_type": "markdown",
   "id": "89602e48",
   "metadata": {},
   "source": [
    "### Confidence interval (95%) using t-distribution"
   ]
  },
  {
   "cell_type": "code",
   "execution_count": 2,
   "id": "02ac2852",
   "metadata": {},
   "outputs": [
    {
     "name": "stdout",
     "output_type": "stream",
     "text": [
      "Mean: 5.0\n",
      "95% Confidence interval (t-distribution): (1.5995630967087155, 8.400436903291284)\n"
     ]
    }
   ],
   "source": [
    "import numpy as np\n",
    "import scipy.stats as stats\n",
    "\n",
    "# Sample data\n",
    "data = [2, 3, 5, 6, 9]\n",
    "\n",
    "# Calculate mean and standard error\n",
    "mean = np.mean(data)\n",
    "std_err = stats.sem(data)\n",
    "\n",
    "# Confidence interval (95%) using t-distribution\n",
    "confidence = 0.95\n",
    "h_t = std_err * stats.t.ppf((1 + confidence) / 2, len(data) - 1)\n",
    "confidence_interval_t = (mean - h_t, mean + h_t) # upperbound and lower bound\n",
    "\n",
    "print(f\"Mean: {mean}\")\n",
    "print(f\"95% Confidence interval (t-distribution): {confidence_interval_t}\")"
   ]
  },
  {
   "cell_type": "markdown",
   "id": "5bd2ae74",
   "metadata": {},
   "source": [
    "### Confidence interval (95%) using z-distribution"
   ]
  },
  {
   "cell_type": "code",
   "execution_count": 3,
   "id": "aba318f3",
   "metadata": {},
   "outputs": [
    {
     "name": "stdout",
     "output_type": "stream",
     "text": [
      "Mean: 5.0\n",
      "95% Confidence interval (z-distribution): (2.599544161822345, 7.400455838177654)\n"
     ]
    }
   ],
   "source": [
    "import numpy as np\n",
    "import scipy.stats as stats\n",
    "\n",
    "# Sample data\n",
    "data = [2, 3, 5, 6, 9]\n",
    "\n",
    "# Calculate mean and standard error\n",
    "mean = np.mean(data)\n",
    "std_err = stats.sem(data)\n",
    "\n",
    "# Confidence interval (95%) using z-distribution\n",
    "confidence = 0.95\n",
    "h_z = std_err * stats.norm.ppf((1 + confidence) / 2)\n",
    "confidence_interval_z = (mean - h_z, mean + h_z)  # upperbound and lower bound\n",
    "\n",
    "print(f\"Mean: {mean}\")\n",
    "print(f\"95% Confidence interval (z-distribution): {confidence_interval_z}\")\n"
   ]
  },
  {
   "cell_type": "markdown",
   "id": "0c206bf7",
   "metadata": {},
   "source": [
    "## p-value\n",
    "The p-value is the probability of obtaining test results at least as extreme as the observed results, under the assumption that the null hypothesis is correct."
   ]
  },
  {
   "cell_type": "code",
   "execution_count": 4,
   "id": "449fc6a2",
   "metadata": {},
   "outputs": [
    {
     "name": "stdout",
     "output_type": "stream",
     "text": [
      "t-statistic: -0.30151134457776346\n",
      "p-value: 0.7707132785693247\n"
     ]
    }
   ],
   "source": [
    "import scipy.stats as stats\n",
    "\n",
    "# Example data\n",
    "data1 = [2, 3, 5, 6, 9]\n",
    "data2 = [1, 4, 5, 8, 10]\n",
    "\n",
    "# Perform t-test\n",
    "t_stat, p_value = stats.ttest_ind(data1, data2)\n",
    "\n",
    "print(f\"t-statistic: {t_stat}\")\n",
    "print(f\"p-value: {p_value}\")"
   ]
  },
  {
   "cell_type": "markdown",
   "id": "21a3da63",
   "metadata": {},
   "source": [
    "## Simple Hypothesis Testing"
   ]
  },
  {
   "cell_type": "code",
   "execution_count": 5,
   "id": "662fb89c",
   "metadata": {},
   "outputs": [
    {
     "name": "stdout",
     "output_type": "stream",
     "text": [
      "t-statistic: -0.30151134457776346\n",
      "p-value: 0.7707132785693247\n",
      "Fail to reject the null hypothesis\n"
     ]
    }
   ],
   "source": [
    "import scipy.stats as stats\n",
    "\n",
    "# Example data\n",
    "data1 = [2, 3, 5, 6, 9]\n",
    "data2 = [1, 4, 5, 8, 10]\n",
    "\n",
    "\n",
    "# Null hypothesis: The means of the two samples are equal\n",
    "# Alternative hypothesis: The means of the two samples are not equal\n",
    "\n",
    "# Perform t-test\n",
    "t_stat, p_value = stats.ttest_ind(data1, data2)\n",
    "\n",
    "print(f\"t-statistic: {t_stat}\")\n",
    "print(f\"p-value: {p_value}\")\n",
    "\n",
    "# Significance level\n",
    "alpha = 0\n",
    "\n",
    "if p_value < alpha:\n",
    "    print(\"Reject the null hypothesis\")\n",
    "else:\n",
    "    print(\"Fail to reject the null hypothesis\")"
   ]
  },
  {
   "cell_type": "markdown",
   "id": "412be787",
   "metadata": {},
   "source": [
    "#### Prepared By,\n",
    "Ahamed Basith"
   ]
  },
  {
   "cell_type": "code",
   "execution_count": null,
   "id": "20c9a6b5",
   "metadata": {},
   "outputs": [],
   "source": []
  }
 ],
 "metadata": {
  "kernelspec": {
   "display_name": "Python 3 (ipykernel)",
   "language": "python",
   "name": "python3"
  },
  "language_info": {
   "codemirror_mode": {
    "name": "ipython",
    "version": 3
   },
   "file_extension": ".py",
   "mimetype": "text/x-python",
   "name": "python",
   "nbconvert_exporter": "python",
   "pygments_lexer": "ipython3",
   "version": "3.11.5"
  }
 },
 "nbformat": 4,
 "nbformat_minor": 5
}
